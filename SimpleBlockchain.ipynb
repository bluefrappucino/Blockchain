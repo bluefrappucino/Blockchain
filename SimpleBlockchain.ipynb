{
  "nbformat": 4,
  "nbformat_minor": 0,
  "metadata": {
    "colab": {
      "provenance": [],
      "gpuType": "T4"
    },
    "kernelspec": {
      "name": "python3",
      "display_name": "Python 3"
    },
    "language_info": {
      "name": "python"
    },
    "accelerator": "GPU"
  },
  "cells": [
    {
      "cell_type": "code",
      "execution_count": 17,
      "metadata": {
        "id": "zVQm_TXl8YlM"
      },
      "outputs": [],
      "source": [
        "import datetime\n",
        "import hashlib"
      ]
    },
    {
      "cell_type": "code",
      "source": [
        "class Block:\n",
        "  blockNo = 0\n",
        "  data = None\n",
        "  next = None  # Add the 'next' attribute here\n",
        "  hash = None\n",
        "  nonce = 0\n",
        "  previous_hash = 0x0\n",
        "  timestamp = datetime.datetime.now()\n",
        "\n",
        "  def __init__(self, data):\n",
        "    self.data = data\n",
        "\n",
        "  def hash(self):\n",
        "    h = hashlib.sha256()\n",
        "    h.update(\n",
        "    str(self.nonce).encode('utf-8') +  # Fix encoding here\n",
        "    str(self.data).encode('utf-8') +\n",
        "    str(self.previous_hash).encode('utf-8') +\n",
        "    str(self.timestamp).encode('utf-8') +\n",
        "    str(self.blockNo).encode('utf-8')\n",
        "    )\n",
        "    return h.hexdigest()\n",
        "\n",
        "  def __str__(self):\n",
        "    return \"Block Hash: \" + str(self.hash()) + \"\\nBlockNo: \" + str(self.blockNo) + \"\\nBlock Data: \" + str(self.data) + \"\\nHashes: \" + str(self.nonce) + \"\\n--------------\""
      ],
      "metadata": {
        "id": "y8xCBRkg8pMr"
      },
      "execution_count": 18,
      "outputs": []
    },
    {
      "cell_type": "code",
      "source": [
        "class Blockchain:\n",
        "\n",
        "  maxNonce = 2**32\n",
        "  diff = 10\n",
        "  target = 2 ** (256-diff)\n",
        "\n",
        "  block = Block(\"Genesis\")\n",
        "  head = block\n",
        "\n",
        "  def add(self, block):\n",
        "    block.previous_hash = self.block.hash()\n",
        "    block.blockNo = self.block.blockNo + 1\n",
        "\n",
        "    self.block.next = block\n",
        "    self.block = self.block.next\n",
        "\n",
        "  def mine(self, block):\n",
        "    for n in range(self.maxNonce):\n",
        "      if int(block.hash(), 16) <= self.target:\n",
        "        self.add(block)\n",
        "        print(block)\n",
        "        break\n",
        "      else:\n",
        "        block.nonce += 1"
      ],
      "metadata": {
        "id": "Dm__j003_KfS"
      },
      "execution_count": 19,
      "outputs": []
    },
    {
      "cell_type": "code",
      "source": [
        "blockchain = Blockchain()\n",
        "\n",
        "for n in range(10):\n",
        "  blockchain.mine(Block(\"Block \" + str(n+1)))\n",
        "\n",
        "while blockchain.head != None:\n",
        "  print(blockchain.head)\n",
        "  blockchain.head = blockchain.head.next"
      ],
      "metadata": {
        "colab": {
          "base_uri": "https://localhost:8080/"
        },
        "id": "W4PI0GIBBzCQ",
        "outputId": "9bcc7786-cd23-41d5-eeee-e36e3ad9fa24"
      },
      "execution_count": 20,
      "outputs": [
        {
          "output_type": "stream",
          "name": "stdout",
          "text": [
            "Block Hash: 2e55256022552080949abf80855be4fe8b6d01a4a668b8ccc6c55f7e94833a3e\n",
            "BlockNo: 1\n",
            "Block Data: Block 1\n",
            "Hashes: 96\n",
            "--------------\n",
            "Block Hash: 60637c374a7d2063ca33303d8cf92fa897cb97a04121785f4594b72de94ef612\n",
            "BlockNo: 2\n",
            "Block Data: Block 2\n",
            "Hashes: 1338\n",
            "--------------\n",
            "Block Hash: a2e84ef3aad6fe25914bcda4f4addb9658f11927a84f6527d44afab2631264c1\n",
            "BlockNo: 3\n",
            "Block Data: Block 3\n",
            "Hashes: 2820\n",
            "--------------\n",
            "Block Hash: dc3c7a1d501e20c3b22bdce173fe972289fdf29a3a5d040f22b2347f0cdf2a4a\n",
            "BlockNo: 4\n",
            "Block Data: Block 4\n",
            "Hashes: 2303\n",
            "--------------\n",
            "Block Hash: 9c09360a0a27ba897d2e184810febecb5bc899ad870684367eb2d14f2a404bce\n",
            "BlockNo: 5\n",
            "Block Data: Block 5\n",
            "Hashes: 3696\n",
            "--------------\n",
            "Block Hash: cdca2b1d2c9b1eeed013df6d3c640ed156c1562aeb11f3ed121cc22658f085de\n",
            "BlockNo: 6\n",
            "Block Data: Block 6\n",
            "Hashes: 1016\n",
            "--------------\n",
            "Block Hash: e3ac6c14eca24ab3a12b718e759d28fe849fec934361bd05baa6ebb96b4f6939\n",
            "BlockNo: 7\n",
            "Block Data: Block 7\n",
            "Hashes: 1411\n",
            "--------------\n",
            "Block Hash: 5796106197847089847cae776953386363fce93041d36aeeb4493950d5a0a228\n",
            "BlockNo: 8\n",
            "Block Data: Block 8\n",
            "Hashes: 3762\n",
            "--------------\n",
            "Block Hash: b563a9dd3b288369b621c18ab63c52a6ba6d9252a28695e9543dd563c5db7744\n",
            "BlockNo: 9\n",
            "Block Data: Block 9\n",
            "Hashes: 1393\n",
            "--------------\n",
            "Block Hash: ec0a9d1fd6f745f80de80300bbbbb7966171c1ba44ed727224e59db616d45a5e\n",
            "BlockNo: 10\n",
            "Block Data: Block 10\n",
            "Hashes: 838\n",
            "--------------\n",
            "Block Hash: 714fec5c7f45b970b826aee026c12bbb6ebb61f4e9dae9ad0a1677b3e3d2b147\n",
            "BlockNo: 0\n",
            "Block Data: Genesis\n",
            "Hashes: 0\n",
            "--------------\n",
            "Block Hash: 2e55256022552080949abf80855be4fe8b6d01a4a668b8ccc6c55f7e94833a3e\n",
            "BlockNo: 1\n",
            "Block Data: Block 1\n",
            "Hashes: 96\n",
            "--------------\n",
            "Block Hash: 60637c374a7d2063ca33303d8cf92fa897cb97a04121785f4594b72de94ef612\n",
            "BlockNo: 2\n",
            "Block Data: Block 2\n",
            "Hashes: 1338\n",
            "--------------\n",
            "Block Hash: a2e84ef3aad6fe25914bcda4f4addb9658f11927a84f6527d44afab2631264c1\n",
            "BlockNo: 3\n",
            "Block Data: Block 3\n",
            "Hashes: 2820\n",
            "--------------\n",
            "Block Hash: dc3c7a1d501e20c3b22bdce173fe972289fdf29a3a5d040f22b2347f0cdf2a4a\n",
            "BlockNo: 4\n",
            "Block Data: Block 4\n",
            "Hashes: 2303\n",
            "--------------\n",
            "Block Hash: 9c09360a0a27ba897d2e184810febecb5bc899ad870684367eb2d14f2a404bce\n",
            "BlockNo: 5\n",
            "Block Data: Block 5\n",
            "Hashes: 3696\n",
            "--------------\n",
            "Block Hash: cdca2b1d2c9b1eeed013df6d3c640ed156c1562aeb11f3ed121cc22658f085de\n",
            "BlockNo: 6\n",
            "Block Data: Block 6\n",
            "Hashes: 1016\n",
            "--------------\n",
            "Block Hash: e3ac6c14eca24ab3a12b718e759d28fe849fec934361bd05baa6ebb96b4f6939\n",
            "BlockNo: 7\n",
            "Block Data: Block 7\n",
            "Hashes: 1411\n",
            "--------------\n",
            "Block Hash: 5796106197847089847cae776953386363fce93041d36aeeb4493950d5a0a228\n",
            "BlockNo: 8\n",
            "Block Data: Block 8\n",
            "Hashes: 3762\n",
            "--------------\n",
            "Block Hash: b563a9dd3b288369b621c18ab63c52a6ba6d9252a28695e9543dd563c5db7744\n",
            "BlockNo: 9\n",
            "Block Data: Block 9\n",
            "Hashes: 1393\n",
            "--------------\n",
            "Block Hash: ec0a9d1fd6f745f80de80300bbbbb7966171c1ba44ed727224e59db616d45a5e\n",
            "BlockNo: 10\n",
            "Block Data: Block 10\n",
            "Hashes: 838\n",
            "--------------\n"
          ]
        }
      ]
    },
    {
      "cell_type": "code",
      "source": [],
      "metadata": {
        "id": "Q6tYqZkiCXAc"
      },
      "execution_count": 20,
      "outputs": []
    }
  ]
}