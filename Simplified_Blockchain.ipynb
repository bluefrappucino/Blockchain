{
  "nbformat": 4,
  "nbformat_minor": 0,
  "metadata": {
    "colab": {
      "provenance": [],
      "gpuType": "T4"
    },
    "kernelspec": {
      "name": "python3",
      "display_name": "Python 3"
    },
    "language_info": {
      "name": "python"
    },
    "accelerator": "GPU"
  },
  "cells": [
    {
      "cell_type": "code",
      "source": [
        "import hashlib\n",
        "import datetime"
      ],
      "metadata": {
        "id": "kK0TQn0qhTgB"
      },
      "execution_count": 1,
      "outputs": []
    },
    {
      "cell_type": "code",
      "execution_count": 2,
      "metadata": {
        "colab": {
          "base_uri": "https://localhost:8080/"
        },
        "id": "IsE-Rfuzg4r-",
        "outputId": "2b09f1cb-92f7-4fff-fff1-e6aa061219ec"
      },
      "outputs": [
        {
          "output_type": "stream",
          "name": "stdout",
          "text": [
            "Block #1 has been added to the blockchain!\n",
            "Hash: 54e8b8a785dfa03e6e77dd54495e3a1ce7adf9ad7ade6d12ae2209468210cd62\n",
            "\n",
            "Block #2 has been added to the blockchain!\n",
            "Hash: 6824e88410a47bbdc2c51e43fcb62c4787e002a345bff3bd9e6b6be671919181\n",
            "\n",
            "Block #3 has been added to the blockchain!\n",
            "Hash: a15bd3530b8f3a405d50628cebfdc6fc74857fc177a2604f745c72409ef35789\n",
            "\n",
            "Block #4 has been added to the blockchain!\n",
            "Hash: 513f4ee7d649139ce606da41dba287466d5645274609fb8c845a1a4274645a6d\n",
            "\n",
            "Block #5 has been added to the blockchain!\n",
            "Hash: 5d2478d03b047e3b61a5f0eacfe13b31b7fa25da3d590b896de1e9295cf27ff9\n",
            "\n"
          ]
        }
      ],
      "source": [
        "class Block:\n",
        "    def __init__(self, index, timestamp, data, previous_hash):\n",
        "        self.index = index\n",
        "        self.timestamp = timestamp\n",
        "        self.data = data\n",
        "        self.previous_hash = previous_hash\n",
        "        self.hash = self.calculate_hash()\n",
        "\n",
        "    def calculate_hash(self):\n",
        "        sha = hashlib.sha256()\n",
        "        sha.update(str(self.index).encode('utf-8') +\n",
        "                   str(self.timestamp).encode('utf-8') +\n",
        "                   str(self.data).encode('utf-8') +\n",
        "                   str(self.previous_hash).encode('utf-8'))\n",
        "        return sha.hexdigest()\n",
        "\n",
        "def create_genesis_block():\n",
        "    return Block(0, datetime.datetime.now(), \"Genesis Block\", \"0\")\n",
        "\n",
        "def add_block(previous_block, data):\n",
        "    index = previous_block.index + 1\n",
        "    timestamp = datetime.datetime.now()\n",
        "    hash = previous_block.hash\n",
        "    return Block(index, timestamp, data, hash)\n",
        "\n",
        "# Create the blockchain\n",
        "blockchain = [create_genesis_block()]\n",
        "previous_block = blockchain[0]\n",
        "\n",
        "# Add blocks to the chain\n",
        "num_of_blocks_to_add = 5\n",
        "for i in range(0, num_of_blocks_to_add):\n",
        "    block_to_add = add_block(previous_block, \"Block \" + str(i+1))\n",
        "    blockchain.append(block_to_add)\n",
        "    previous_block = block_to_add\n",
        "    print(\"Block #{} has been added to the blockchain!\".format(block_to_add.index))\n",
        "    print(\"Hash: {}\\n\".format(block_to_add.hash))"
      ]
    },
    {
      "cell_type": "code",
      "source": [
        "# Print the blockchain data\n",
        "print(\"Blockchain:\")\n",
        "for block in blockchain:\n",
        "    print(\"Block Index:\", block.index)\n",
        "    print(\"Timestamp:\", block.timestamp)\n",
        "    print(\"Data:\", block.data)\n",
        "    print(\"Hash:\", block.hash)\n",
        "    print(\"Previous Hash:\", block.previous_hash)\n",
        "    print(\"\\n\")"
      ],
      "metadata": {
        "colab": {
          "base_uri": "https://localhost:8080/"
        },
        "id": "ZfGEXqYvhW5s",
        "outputId": "5cb3e98e-dfdb-4252-bb38-e690d4b42669"
      },
      "execution_count": 3,
      "outputs": [
        {
          "output_type": "stream",
          "name": "stdout",
          "text": [
            "Blockchain:\n",
            "Block Index: 0\n",
            "Timestamp: 2024-08-11 03:40:33.561532\n",
            "Data: Genesis Block\n",
            "Hash: 1e4d7e02564de369b5ccbc9509db4b44be210ac5031e978b82201628643c5e0a\n",
            "Previous Hash: 0\n",
            "\n",
            "\n",
            "Block Index: 1\n",
            "Timestamp: 2024-08-11 03:40:33.561796\n",
            "Data: Block 1\n",
            "Hash: 54e8b8a785dfa03e6e77dd54495e3a1ce7adf9ad7ade6d12ae2209468210cd62\n",
            "Previous Hash: 1e4d7e02564de369b5ccbc9509db4b44be210ac5031e978b82201628643c5e0a\n",
            "\n",
            "\n",
            "Block Index: 2\n",
            "Timestamp: 2024-08-11 03:40:33.561909\n",
            "Data: Block 2\n",
            "Hash: 6824e88410a47bbdc2c51e43fcb62c4787e002a345bff3bd9e6b6be671919181\n",
            "Previous Hash: 54e8b8a785dfa03e6e77dd54495e3a1ce7adf9ad7ade6d12ae2209468210cd62\n",
            "\n",
            "\n",
            "Block Index: 3\n",
            "Timestamp: 2024-08-11 03:40:33.561963\n",
            "Data: Block 3\n",
            "Hash: a15bd3530b8f3a405d50628cebfdc6fc74857fc177a2604f745c72409ef35789\n",
            "Previous Hash: 6824e88410a47bbdc2c51e43fcb62c4787e002a345bff3bd9e6b6be671919181\n",
            "\n",
            "\n",
            "Block Index: 4\n",
            "Timestamp: 2024-08-11 03:40:33.562992\n",
            "Data: Block 4\n",
            "Hash: 513f4ee7d649139ce606da41dba287466d5645274609fb8c845a1a4274645a6d\n",
            "Previous Hash: a15bd3530b8f3a405d50628cebfdc6fc74857fc177a2604f745c72409ef35789\n",
            "\n",
            "\n",
            "Block Index: 5\n",
            "Timestamp: 2024-08-11 03:40:33.563059\n",
            "Data: Block 5\n",
            "Hash: 5d2478d03b047e3b61a5f0eacfe13b31b7fa25da3d590b896de1e9295cf27ff9\n",
            "Previous Hash: 513f4ee7d649139ce606da41dba287466d5645274609fb8c845a1a4274645a6d\n",
            "\n",
            "\n"
          ]
        }
      ]
    },
    {
      "cell_type": "code",
      "source": [],
      "metadata": {
        "id": "b9vkrSpwhceB"
      },
      "execution_count": 3,
      "outputs": []
    }
  ]
}